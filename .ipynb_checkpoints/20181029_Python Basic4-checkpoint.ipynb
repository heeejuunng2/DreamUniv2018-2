{
 "cells": [
  {
   "cell_type": "markdown",
   "metadata": {},
   "source": [
    "### 제어문"
   ]
  },
  {
   "cell_type": "markdown",
   "metadata": {},
   "source": [
    "## if문"
   ]
  },
  {
   "cell_type": "code",
   "execution_count": 1,
   "metadata": {},
   "outputs": [],
   "source": [
    "# 관계 연산자\n",
    "x=3\n",
    "y=4"
   ]
  },
  {
   "cell_type": "code",
   "execution_count": 9,
   "metadata": {},
   "outputs": [
    {
     "data": {
      "text/plain": [
       "False"
      ]
     },
     "execution_count": 9,
     "metadata": {},
     "output_type": "execute_result"
    }
   ],
   "source": [
    "x == y # x링 y랑 같나?"
   ]
  },
  {
   "cell_type": "code",
   "execution_count": 10,
   "metadata": {},
   "outputs": [
    {
     "data": {
      "text/plain": [
       "True"
      ]
     },
     "execution_count": 10,
     "metadata": {},
     "output_type": "execute_result"
    }
   ],
   "source": [
    "x != y # x랑 y랑 다르나?"
   ]
  },
  {
   "cell_type": "code",
   "execution_count": 6,
   "metadata": {},
   "outputs": [
    {
     "data": {
      "text/plain": [
       "False"
      ]
     },
     "execution_count": 6,
     "metadata": {},
     "output_type": "execute_result"
    }
   ],
   "source": [
    "x > y # x기 y보다 큰가?"
   ]
  },
  {
   "cell_type": "code",
   "execution_count": 7,
   "metadata": {},
   "outputs": [
    {
     "data": {
      "text/plain": [
       "True"
      ]
     },
     "execution_count": 7,
     "metadata": {},
     "output_type": "execute_result"
    }
   ],
   "source": [
    "x < y # x가 y보다 작나?"
   ]
  },
  {
   "cell_type": "code",
   "execution_count": 11,
   "metadata": {},
   "outputs": [
    {
     "data": {
      "text/plain": [
       "False"
      ]
     },
     "execution_count": 11,
     "metadata": {},
     "output_type": "execute_result"
    }
   ],
   "source": [
    "x >= y # x가 y보다 크거나 같나?"
   ]
  },
  {
   "cell_type": "code",
   "execution_count": 12,
   "metadata": {},
   "outputs": [
    {
     "data": {
      "text/plain": [
       "True"
      ]
     },
     "execution_count": 12,
     "metadata": {},
     "output_type": "execute_result"
    }
   ],
   "source": [
    "x <= y # x가 y보다 작거나 같나?"
   ]
  },
  {
   "cell_type": "code",
   "execution_count": 14,
   "metadata": {},
   "outputs": [
    {
     "name": "stdout",
     "output_type": "stream",
     "text": [
      "합격입니다.\n"
     ]
    }
   ],
   "source": [
    "score = 90\n",
    "if score >= 60:\n",
    "    print(\"합격입니다.\")\n",
    "else :\n",
    "    print(\"불합격입니다.\")"
   ]
  },
  {
   "cell_type": "code",
   "execution_count": 21,
   "metadata": {},
   "outputs": [
    {
     "name": "stdout",
     "output_type": "stream",
     "text": [
      "이 영화를 보실 수 있습니다.\n"
     ]
    }
   ],
   "source": [
    "# 영화관 입장 판독기\n",
    "age = int(input(\"나이를 입력하시오: \"))\n",
    "if age >= 19:\n",
    "    print(\"이 영화를 보실 수 있습니다.\")\n",
    "else:\n",
    "    print(\"이 영화를 보실 수 없습니다.\")"
   ]
  },
  {
   "cell_type": "code",
   "execution_count": 24,
   "metadata": {},
   "outputs": [
    {
     "name": "stdout",
     "output_type": "stream",
     "text": [
      "놀이기구 탈 수 없다\n"
     ]
    }
   ],
   "source": [
    "age = int(input(\"나이가 어떻게 되시나요? \"))\n",
    "height = float(input(\"키가 어떻게 되시나요? \"))\n",
    "if age>=10 and height>=165:\n",
    "    print(\"놀이기구 탈 수 있다\")\n",
    "else :\n",
    "    print(\"놀이기구 탈 수 없다\")"
   ]
  },
  {
   "cell_type": "code",
   "execution_count": 3,
   "metadata": {},
   "outputs": [
    {
     "name": "stdout",
     "output_type": "stream",
     "text": [
      "0입니다.\n"
     ]
    }
   ],
   "source": [
    "# 양수, 음수, 0 판독기\n",
    "num = int(input(\"정수를 입력하세요: \"))\n",
    "if num>0:\n",
    "    print(\"양수입니다.\")\n",
    "elif num==0:   # else if = elif\n",
    "    print(\"0입니다.\")\n",
    "else :\n",
    "    print(\"음수입니다.\")"
   ]
  },
  {
   "cell_type": "code",
   "execution_count": 8,
   "metadata": {},
   "outputs": [
    {
     "name": "stdout",
     "output_type": "stream",
     "text": [
      "아이디를 찾을 수 없습니다.\n"
     ]
    }
   ],
   "source": [
    "id = \"heejung\";\n",
    "id2 = str(input(\"아이디를 입력하세요: \"))\n",
    "\n",
    "if id==id2:\n",
    "    print(\"환영합니다.\")\n",
    "else :\n",
    "    print(\"아이디를 찾을 수 없습니다.\")"
   ]
  },
  {
   "cell_type": "markdown",
   "metadata": {},
   "source": [
    "### 반복문"
   ]
  },
  {
   "cell_type": "code",
   "execution_count": 9,
   "metadata": {},
   "outputs": [
    {
     "name": "stdout",
     "output_type": "stream",
     "text": [
      "환영합니다.\n",
      "환영합니다.\n",
      "환영합니다.\n",
      "환영합니다.\n",
      "환영합니다.\n"
     ]
    }
   ],
   "source": [
    "print(\"환영합니다.\")\n",
    "print(\"환영합니다.\")\n",
    "print(\"환영합니다.\")\n",
    "print(\"환영합니다.\")\n",
    "print(\"환영합니다.\")"
   ]
  },
  {
   "cell_type": "code",
   "execution_count": 11,
   "metadata": {},
   "outputs": [
    {
     "name": "stdout",
     "output_type": "stream",
     "text": [
      "방문을 환영합니다.\n",
      "방문을 환영합니다.\n",
      "방문을 환영합니다.\n",
      "방문을 환영합니다.\n",
      "방문을 환영합니다.\n",
      "방문을 환영합니다.\n",
      "방문을 환영합니다.\n",
      "방문을 환영합니다.\n",
      "방문을 환영합니다.\n",
      "방문을 환영합니다.\n",
      "방문을 환영합니다.\n",
      "방문을 환영합니다.\n",
      "방문을 환영합니다.\n",
      "방문을 환영합니다.\n",
      "방문을 환영합니다.\n",
      "방문을 환영합니다.\n",
      "방문을 환영합니다.\n",
      "방문을 환영합니다.\n",
      "방문을 환영합니다.\n",
      "방문을 환영합니다.\n",
      "방문을 환영합니다.\n",
      "방문을 환영합니다.\n",
      "방문을 환영합니다.\n",
      "방문을 환영합니다.\n",
      "방문을 환영합니다.\n",
      "방문을 환영합니다.\n",
      "방문을 환영합니다.\n",
      "방문을 환영합니다.\n",
      "방문을 환영합니다.\n",
      "방문을 환영합니다.\n",
      "방문을 환영합니다.\n",
      "방문을 환영합니다.\n",
      "방문을 환영합니다.\n",
      "방문을 환영합니다.\n",
      "방문을 환영합니다.\n",
      "방문을 환영합니다.\n",
      "방문을 환영합니다.\n",
      "방문을 환영합니다.\n",
      "방문을 환영합니다.\n",
      "방문을 환영합니다.\n",
      "방문을 환영합니다.\n",
      "방문을 환영합니다.\n",
      "방문을 환영합니다.\n",
      "방문을 환영합니다.\n",
      "방문을 환영합니다.\n",
      "방문을 환영합니다.\n",
      "방문을 환영합니다.\n",
      "방문을 환영합니다.\n",
      "방문을 환영합니다.\n",
      "방문을 환영합니다.\n"
     ]
    }
   ],
   "source": [
    "for i in range(50):\n",
    "    print(\"방문을 환영합니다.\")"
   ]
  },
  {
   "cell_type": "code",
   "execution_count": 14,
   "metadata": {},
   "outputs": [
    {
     "name": "stdout",
     "output_type": "stream",
     "text": [
      "사랑한다 . 내친구 홍길동 아~\n",
      "사랑한다 . 내친구 임꺽정 아~\n",
      "사랑한다 . 내친구 전우치 아~\n",
      "사랑한다 . 내친구 봉신방 아~\n",
      "사랑한다 . 내친구 손오공 아~\n"
     ]
    }
   ],
   "source": [
    "친구목록 = ['홍길동','임꺽정','전우치','봉신방','손오공']\n",
    "for i in  친구목록:\n",
    "    print(\"사랑한다 . 내친구\",i,\"아~\")"
   ]
  },
  {
   "cell_type": "code",
   "execution_count": 17,
   "metadata": {},
   "outputs": [
    {
     "name": "stdout",
     "output_type": "stream",
     "text": [
      "나는  딸기 을(를) 좋아해♡\n",
      "나는  수박 을(를) 좋아해♡\n",
      "나는  망고 을(를) 좋아해♡\n"
     ]
    }
   ],
   "source": [
    "과일목록 = ['딸기','수박','망고']\n",
    "for i in  과일목록:\n",
    "    print(\"나는 \",i,\"을(를) 좋아해♡\")"
   ]
  },
  {
   "cell_type": "code",
   "execution_count": 18,
   "metadata": {},
   "outputs": [
    {
     "name": "stdout",
     "output_type": "stream",
     "text": [
      "9* 1 = 9\n",
      "9* 2 = 18\n",
      "9* 3 = 27\n",
      "9* 4 = 36\n",
      "9* 5 = 45\n",
      "9* 6 = 54\n",
      "9* 7 = 63\n",
      "9* 8 = 72\n",
      "9* 9 = 81\n"
     ]
    }
   ],
   "source": [
    "# 9단 만들기\n",
    "for i in range(9):\n",
    "    print(\"9*\",(i+1),\"=\",9*(i+1))"
   ]
  },
  {
   "cell_type": "code",
   "execution_count": 19,
   "metadata": {},
   "outputs": [
    {
     "name": "stdout",
     "output_type": "stream",
     "text": [
      "9* 1 = 9\n",
      "9* 2 = 18\n",
      "9* 3 = 27\n",
      "9* 4 = 36\n",
      "9* 5 = 45\n",
      "9* 6 = 54\n",
      "9* 7 = 63\n",
      "9* 8 = 72\n",
      "9* 9 = 81\n"
     ]
    }
   ],
   "source": [
    "# range(시작값, 종료값(본인 미포함), )\n",
    "for i in range(1,10):\n",
    "    print(\"9*\",i,\"=\",9*i)"
   ]
  },
  {
   "cell_type": "code",
   "execution_count": 21,
   "metadata": {},
   "outputs": [
    {
     "name": "stdout",
     "output_type": "stream",
     "text": [
      "\n",
      "2 * 1 = 2\n",
      "2 * 2 = 4\n",
      "2 * 3 = 6\n",
      "2 * 4 = 8\n",
      "2 * 5 = 10\n",
      "2 * 6 = 12\n",
      "2 * 7 = 14\n",
      "2 * 8 = 16\n",
      "2 * 9 = 18\n",
      "\n",
      "3 * 1 = 3\n",
      "3 * 2 = 6\n",
      "3 * 3 = 9\n",
      "3 * 4 = 12\n",
      "3 * 5 = 15\n",
      "3 * 6 = 18\n",
      "3 * 7 = 21\n",
      "3 * 8 = 24\n",
      "3 * 9 = 27\n",
      "\n",
      "4 * 1 = 4\n",
      "4 * 2 = 8\n",
      "4 * 3 = 12\n",
      "4 * 4 = 16\n",
      "4 * 5 = 20\n",
      "4 * 6 = 24\n",
      "4 * 7 = 28\n",
      "4 * 8 = 32\n",
      "4 * 9 = 36\n",
      "\n",
      "5 * 1 = 5\n",
      "5 * 2 = 10\n",
      "5 * 3 = 15\n",
      "5 * 4 = 20\n",
      "5 * 5 = 25\n",
      "5 * 6 = 30\n",
      "5 * 7 = 35\n",
      "5 * 8 = 40\n",
      "5 * 9 = 45\n",
      "\n",
      "6 * 1 = 6\n",
      "6 * 2 = 12\n",
      "6 * 3 = 18\n",
      "6 * 4 = 24\n",
      "6 * 5 = 30\n",
      "6 * 6 = 36\n",
      "6 * 7 = 42\n",
      "6 * 8 = 48\n",
      "6 * 9 = 54\n",
      "\n",
      "7 * 1 = 7\n",
      "7 * 2 = 14\n",
      "7 * 3 = 21\n",
      "7 * 4 = 28\n",
      "7 * 5 = 35\n",
      "7 * 6 = 42\n",
      "7 * 7 = 49\n",
      "7 * 8 = 56\n",
      "7 * 9 = 63\n",
      "\n",
      "8 * 1 = 8\n",
      "8 * 2 = 16\n",
      "8 * 3 = 24\n",
      "8 * 4 = 32\n",
      "8 * 5 = 40\n",
      "8 * 6 = 48\n",
      "8 * 7 = 56\n",
      "8 * 8 = 64\n",
      "8 * 9 = 72\n",
      "\n",
      "9 * 1 = 9\n",
      "9 * 2 = 18\n",
      "9 * 3 = 27\n",
      "9 * 4 = 36\n",
      "9 * 5 = 45\n",
      "9 * 6 = 54\n",
      "9 * 7 = 63\n",
      "9 * 8 = 72\n",
      "9 * 9 = 81\n"
     ]
    }
   ],
   "source": [
    "for i in range(2,10):\n",
    "    print(\"\")\n",
    "    for j in range(1,10):\n",
    "        print(i,\"*\",j,\"=\",i*j)"
   ]
  },
  {
   "cell_type": "code",
   "execution_count": 3,
   "metadata": {},
   "outputs": [
    {
     "name": "stdout",
     "output_type": "stream",
     "text": [
      "10 ! =  3628800\n"
     ]
    }
   ],
   "source": [
    "# 팩토리얼 계산\n",
    "n= int(input(\"정수를 입력하시오: \"))\n",
    "p = 1\n",
    "for i in range(1,n+1):\n",
    "    p = p * i\n",
    "print(n,\"! = \",p)"
   ]
  },
  {
   "cell_type": "code",
   "execution_count": null,
   "metadata": {},
   "outputs": [],
   "source": []
  }
 ],
 "metadata": {
  "kernelspec": {
   "display_name": "Python 3",
   "language": "python",
   "name": "python3"
  },
  "language_info": {
   "codemirror_mode": {
    "name": "ipython",
    "version": 3
   },
   "file_extension": ".py",
   "mimetype": "text/x-python",
   "name": "python",
   "nbconvert_exporter": "python",
   "pygments_lexer": "ipython3",
   "version": "3.6.4"
  }
 },
 "nbformat": 4,
 "nbformat_minor": 2
}
